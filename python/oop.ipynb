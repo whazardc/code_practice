{
 "cells": [
  {
   "cell_type": "markdown",
   "metadata": {},
   "source": [
    "# 1. Defining a Class\n",
    "\n",
    "We create a class called Dog, with a method called bark.\n",
    "\n",
    "\"self\" is an argument of the method and points to the current object. It must be specified when defining a method inside a class.\n",
    "\n",
    "__init__ is a special type of method, it is a constructor. As such, it also needs the \"self\" argument\" as it is a method.\n",
    "\n",
    "self.name = name indicates that the current object that is being consctructured, will have its **name attribute** set to the value of the **\"name\" argument of the constructor** "
   ]
  },
  {
   "cell_type": "code",
   "execution_count": 1,
   "metadata": {},
   "outputs": [
    {
     "name": "stdout",
     "output_type": "stream",
     "text": [
      "Roger\n",
      "8\n",
      "woof!\n"
     ]
    }
   ],
   "source": [
    "class Dog:\n",
    "    def __init__(self, name, age):\n",
    "        self.name = name   \n",
    "        self.age = age\n",
    "\n",
    "    def bark(self):\n",
    "        print(\"woof!\")\n",
    "\n",
    "roger = Dog(\"Roger\", 8)\n",
    "\n",
    "print(roger.name)\n",
    "print(roger.age)\n",
    "roger.bark()"
   ]
  },
  {
   "cell_type": "markdown",
   "metadata": {},
   "source": [
    "# 2. Class inheritance\n",
    "\n",
    "The Dog class can inherit attributes and methods from a superclass.\n",
    "\n",
    "Lets define a superclass called Animal and it has a method walk()."
   ]
  },
  {
   "cell_type": "code",
   "execution_count": 3,
   "metadata": {},
   "outputs": [],
   "source": [
    "class Animal:\n",
    "    def walk(self):\n",
    "        print(\"walking!\")"
   ]
  },
  {
   "cell_type": "markdown",
   "metadata": {},
   "source": [
    "Now lets redefine the Dog class, but we add paranthesis to indicate that we want to inherit from Animal superclass.\n",
    "\n",
    "**class Dog(Animal):**"
   ]
  },
  {
   "cell_type": "code",
   "execution_count": 6,
   "metadata": {},
   "outputs": [
    {
     "name": "stdout",
     "output_type": "stream",
     "text": [
      "Roger\n",
      "8\n",
      "woof!\n",
      "walking!\n"
     ]
    }
   ],
   "source": [
    "class Dog(Animal):\n",
    "    def __init__(self, name, age):\n",
    "        self.name = name   \n",
    "        self.age = age\n",
    "\n",
    "    def bark(self):\n",
    "        print(\"woof!\")\n",
    "\n",
    "roger = Dog(\"Roger\", 8)\n",
    "\n",
    "print(roger.name)\n",
    "print(roger.age)\n",
    "roger.bark()\n",
    "\n",
    "# call the method of the superclass it inherited.\n",
    "roger.walk()"
   ]
  },
  {
   "cell_type": "markdown",
   "metadata": {},
   "source": [
    "# 3. Modules\n",
    "\n",
    "Every Python file is a module and a python file can import other modules to access the code written in them.\n",
    "\n",
    "Its the equivalent of C++'s header files and library files."
   ]
  },
  {
   "cell_type": "markdown",
   "metadata": {},
   "source": [
    "Importing a module in python is much simpler than C++.\n",
    "\n",
    "In C++, it would be like: #include \"headerfile.h\".\n",
    "\n",
    "In Python, we simply use the **import** keyword and specify the python file name (without specifying the .py extension)\n",
    "\n",
    "To use a function written in the imported module, the syntax is **module_name.function_name()**"
   ]
  },
  {
   "cell_type": "markdown",
   "metadata": {},
   "source": [
    "### 3.1 importing modules in the same directory level\n",
    "\n",
    "For example, we have a module \"example_module.py\" that is in the **same directory level** as this jupyter notebook.\n",
    "\n",
    "code_practice\\\n",
    "|__example_module.py\\\n",
    "|__oop.ipynb"
   ]
  },
  {
   "cell_type": "code",
   "execution_count": 16,
   "metadata": {},
   "outputs": [
    {
     "name": "stdout",
     "output_type": "stream",
     "text": [
      "Jumping!\n",
      "Running!\n"
     ]
    }
   ],
   "source": [
    "import example_module\n",
    "\n",
    "# This is to reload the example_module after making changes as Jupyter Notebook doesn't automatically reload changes made to a module.\n",
    "# Only need to run it once.\n",
    "#import importlib\n",
    "#importlib.reload(example_module)\n",
    "\n",
    "example_module.jump()   # jump() is a function defined in example_module.py\n",
    "\n",
    "example_module.run()"
   ]
  },
  {
   "cell_type": "markdown",
   "metadata": {},
   "source": [
    "We can also directly import only a function from a module, rather than the entire module. This is useful if we only need to use a few functions.\n",
    "\n",
    "To do so, we use the keywords **from module_name import function_name**\n",
    "\n",
    "In this example, run() will not be accessible."
   ]
  },
  {
   "cell_type": "code",
   "execution_count": 19,
   "metadata": {},
   "outputs": [
    {
     "name": "stdout",
     "output_type": "stream",
     "text": [
      "Jumping!\n"
     ]
    }
   ],
   "source": [
    "from example_module import jump\n",
    "jump()\n",
    "\n",
    "# run()"
   ]
  },
  {
   "cell_type": "markdown",
   "metadata": {},
   "source": [
    "### 3.2 Importing modules that are in a different directory level\n",
    "\n",
    "Suppose we have save all the modules in a folder called **lib**. In **lib**, we need to create an **__init__.py** file so that python will treat all files inside **lib** as python packages.\n",
    "\n",
    "code_practice\\\n",
    "|\\_\\_lib\\\n",
    "|&nbsp;&nbsp;&nbsp;&nbsp;|__ \\_\\_init\\_\\_.py\\\n",
    "|&nbsp;&nbsp;&nbsp;&nbsp;|__example_module2.py\\\n",
    "|__oop.ipynb"
   ]
  },
  {
   "cell_type": "code",
   "execution_count": 21,
   "metadata": {},
   "outputs": [
    {
     "name": "stdout",
     "output_type": "stream",
     "text": [
      "Scratching!\n"
     ]
    }
   ],
   "source": [
    "from lib import example_module2\n",
    "example_module2.scratch()"
   ]
  },
  {
   "cell_type": "code",
   "execution_count": 22,
   "metadata": {},
   "outputs": [
    {
     "name": "stdout",
     "output_type": "stream",
     "text": [
      "Scratching!\n"
     ]
    }
   ],
   "source": [
    "from lib.example_module2 import scratch\n",
    "scratch()"
   ]
  },
  {
   "cell_type": "code",
   "execution_count": null,
   "metadata": {},
   "outputs": [],
   "source": []
  }
 ],
 "metadata": {
  "kernelspec": {
   "display_name": "ie4414",
   "language": "python",
   "name": "ie4414"
  },
  "language_info": {
   "codemirror_mode": {
    "name": "ipython",
    "version": 3
   },
   "file_extension": ".py",
   "mimetype": "text/x-python",
   "name": "python",
   "nbconvert_exporter": "python",
   "pygments_lexer": "ipython3",
   "version": "3.8.12"
  }
 },
 "nbformat": 4,
 "nbformat_minor": 2
}
